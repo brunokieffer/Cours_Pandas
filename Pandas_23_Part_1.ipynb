{
 "cells": [
  {
   "cell_type": "markdown",
   "metadata": {},
   "source": [
    "# Introduction à la visualisation de données biologiques massives à l'aide du language PYTHON \n",
    "\n",
    "# Partie 1 : Introduction à Python et Pandas\n",
    "\n",
    "\n",
    "### Ecole Supérieure de Biotechnologie de Strasbourg\n",
    "\n",
    "### Bruno KIEFFER \n",
    "\n",
    "### Mars 2023\n",
    "\n",
    "\n",
    "## 0. Introduction et organisation pratique de l'atelier\n",
    "\n",
    "L'expérimentation en biologie produit des données qui sont de plus en plus massives et dont l'analyse et l'interprétation requiert des outils informatiques adaptés. Au cours de cet atelier, nous introduirons l'utilisation de la bibliothèque Pandas, un ensemble d'outils permettant la manipulation de données sous la forme de tableaux. L'utilisation de cette bibliothèque sera illustrée sur une analyse de données de transcriptomique. L'utilisation de cette bibliothèque ne se substitue pas aux programmes spécialisés, souvent écrits dans le language R. L'objectif est d'aborder un outil polyvalent permettant d'avoir rapidement un aperçu et des premières analyses statistiques simples sur un jeu de données, préalablement à des analyses plus spécialisées. La bibliothèque Pandas n'est pas liée à un type de données particulier, ce qui en fait un outil général et appliquable à un grand nombre de problèmes. Son utilisation s'appuie sur le language de programmation Python, mais il n'est pas nécessaire d'avoir des bases de programmation pour pouvoir l'utiliser. La base minimale de connaissances permettant l'utilisation de Pandas est donnée dans cet atelier.\n",
    "\n",
    "### 0.1 Organisation pratique de l'atelier en période de confinement\n",
    "\n",
    "#### 0.1.1 Les notebooks Jupyter\n",
    "\n",
    "Les manipulations pratiques effectuées lors de l'atelier le seront sous la forme de notebooks. Ces notebooks sont des pages web qui permettent de mélanger du code informatique et du texte au sein d'un même document. Un notebook contient des cellules qui peuvent être, soit du texte formatté à l'aide du language Markdown, soit du code informatique (ici Python). En double-clickant sur une cellule, on peut l'éditer et modifier son contenu. En clickant sur le bouton \"Run\" ou bien en appuyant simultanément sur les touches \"return\" et \"majuscule\", vous obtenez le texte mis en forme (pour une cellule de texte) ou bien vous \"executez\" les instructions Python contenus dans une cellule contenant du code. Jupyter fait référence à l'organisation qui distribue ce système qui peut être installé sur n'importe quelle ordinateur à partir du site:\n",
    "\n",
    "https://jupyter.org/\n",
    "\n",
    "\n",
    "#### 0.1.2 Accèder aux notebooks Jupyter si on n'a pas la possibiliter de l'installer sur sa machine\n",
    "\n",
    "L'installation du système Jupyter nécessite des ressources relativement importantes (500 Mo de disque et un ordinateur assez récent - 2 - 3 ans). Si vous n'avez pas la pôssibilité d'installer Jupyter sur votre machine, vous pouvez utiliser les ressources offertes par le \"cloud computing\". Plusieurs acteurs offrent des ressources de calculs à des fins de tests ou d'éducation. Nous utiliserons celui de la société Google, qui offre gratuitement un accès en ligne à des notebooks jupyter. Pour cela, il vous faut créer un compte Gmail (si ce n'est déjà fait). Votre identifiant vous permettra d'accèder à l'environnement Jupyter avec le lien suivant :\n",
    "\n",
    "https://colab.research.google.com/notebooks/intro.ipynb\n",
    "\n",
    "\n",
    "#### 0.1.3 Mise en route et préparation de l'atelier du 28 Avril\n",
    "\n",
    "Après vous être assuré d'un accès à Jupyter, vous êtes en mesure de pratiquer le language Python. L'objectif ici ne sera pas d'apprendre à programmer, mais d'utiliser des outils puissants d'analyse de données. Pour cela, un minimum (très très minimal) de connaissance est nécessaire. Afin de préparer l'atelier et d'arriver rapidement aux parties intéressantes pour la médecine, il est recommandé de prendre connaissance et de pratiquer les quelques éléments de langage présentés ci-dessous.\n",
    "\n",
    "Plusieurs ressources sont disponibles pour faciliter un démarrage rapide avec les bases du language Python:\n",
    "\n",
    "- Le [tutoriel très populaire](https://python.developpez.com/cours/TutoSwinnen/?page=page_4#L2.1) de Gérard Swinnen\n",
    "\n",
    "- Le [tutoriel d'openclassroom](https://openclassrooms.com/fr/courses/235344-apprenez-a-programmer-en-python)\n",
    "\n",
    "- Le [manuel référence](https://docs.python.org/3/reference/) du language Python\n",
    "\n",
    "\n",
    "## 1. Quelques éléments du language Python\n",
    "\n",
    "### 1.1 Notions d'objects, de type, et des noms\n",
    "\n",
    "Pour travailler sur des données, il est nécessaire de les stocker dans la mémoire de l'ordinateur à un emplacement précis (appelé adresse) et de pouvoir les récupérer grâce à un nom. Dans PYTHON, toutes les données sont stockées dans des objets identifiés par un nom et un type donnés.\n",
    "\n",
    "Un objet correspond aux données et aux différents programmes pour les visualiser ou les modifier. Par exemple, pour manipuler des données aussi simples qu'un nombre entier, nous pouvons utiliser un objet de type entier (un autre langage appellera cela une variable). Cet objet saura effectuer une addition, une division euclidienne ou permettra de changer le contenu de l'objet.\n",
    "\n",
    "Un nom est une série de caractères qui identifie l'objet sans ambiguïté. Un certain nombre de noms sont réservés par la langue, tels que and, for et doivent donc être évités. PYTHON se distingue des autres langues par son très petit nombre de commandes. Généralement, un nom est composé de lettres majuscules et / ou minuscules (Remarque: a est différent de A en PYTHON) ou de chiffres. Les caractères de ponctuation sont exclus, les espaces ou les lettres avec accent.\n",
    "\n",
    "Pour \"entrer\" des informations dans un objet, le signe = est utilisé. Le nom est placé à gauche du signe = et le contenu à droite. Ce contenu peut être une expression mathématique (en ajoutant deux nombres). Dans ce cas, l'interprète PYTHON calcule d'abord le résultat de l'expression, puis affecte le résultat à la variable.\n",
    "\n",
    "Les objets simples de Python sont:\n",
    "\n",
    "- un nombre entier exp 12\n",
    "- un nombre réel (dans ce cas, on ajoute un point lors de l'écriture exp : 1. est le réel 1)\n",
    "- une chaîne de caractères (une suite de caractères que l'on délimite par les caractères \" ou ')\n"
   ]
  },
  {
   "cell_type": "code",
   "execution_count": null,
   "metadata": {
    "ExecuteTime": {
     "end_time": "2020-04-28T08:49:12.173755Z",
     "start_time": "2020-04-28T08:49:12.167949Z"
    }
   },
   "outputs": [],
   "source": [
    "# Manipulation des types entiers et réels\n",
    "ma = 3. # On cree un objet nommé ma\n",
    "print (ma) # On affiche sa valeur à l'écran (sortie)\n",
    "ma = ma + 1 # Premiere expression (calcul) qui va etre évaluée\n",
    "print (ma) \n",
    "print(type(ma)) # Le type est entier"
   ]
  },
  {
   "cell_type": "code",
   "execution_count": null,
   "metadata": {
    "ExecuteTime": {
     "end_time": "2020-04-28T08:58:16.644372Z",
     "start_time": "2020-04-28T08:58:16.639096Z"
    }
   },
   "outputs": [],
   "source": [
    "# Manipulation des chaînes de caractères\n",
    "Axelle = \"Merci pour le changement de statut\"\n",
    "axelle = \" J'apprends aussi en donnant ce cours\"\n",
    "imprime = Axelle + axelle # L'opérateur + s'adapte au type des donnée,\n",
    "# pour des chaines, il realise une concatenation des chaines\n",
    "\n",
    "print (imprime)"
   ]
  },
  {
   "cell_type": "markdown",
   "metadata": {},
   "source": [
    "### 1.2 Les opérations (opérateurs) en Python\n",
    "\n",
    "Les opérations permettent d'effectuer des calculs sur les objets. Sur les objets simples comme des nombres entiers ou réels, les opérations correspondent à celles du language courant :\n",
    "\n",
    "- \\+ : addition \n",
    "- \\- : soustraction\n",
    "- / : division\n",
    "- \\* : multiplication\n",
    "\n",
    "Pour des objets plus complexes, ces symboles peuvent correspondre à des opération très différentes, comme par exemple la **concaténation** de deux chaines de caractères.\n"
   ]
  },
  {
   "cell_type": "code",
   "execution_count": null,
   "metadata": {
    "ExecuteTime": {
     "end_time": "2020-04-24T12:30:00.892755Z",
     "start_time": "2020-04-24T12:30:00.887114Z"
    }
   },
   "outputs": [],
   "source": [
    "a = 1\n",
    "b = \"1\"\n",
    "print (a*5)\n",
    "print (b*5)"
   ]
  },
  {
   "cell_type": "markdown",
   "metadata": {},
   "source": [
    "### 1.3 Le type booléen\n",
    "\n",
    "Une variable booléenne ne peut prendre que deux valeurs: Vrai ou Faux (appelé True ou False, la majuscule est importante). La valeur booléenne est souvent le résultat d'une expression qui compare deux objets. Pour détecter si deux valeurs sont identiques, utilisez l'opérateur ==. Notez que l'utilisation du double signe égal est utilisée pour distinguer une opération de comparaison d'une affectation de valeur. Les exemples ci-dessous illustrent l'utilisation des opérateurs de comparaison.\n",
    "\n",
    "Opérateurs de comparaison:\n",
    "\n",
    "* x == y # x est égal à y\n",
    "* x! = y # x est différent de y\n",
    "* x> y # x est supérieur à y\n",
    "* x <y # x est plus petit que y\n",
    "* x> = y # x est supérieur ou égal à y\n",
    "* x <= y # x est plus petit ou égal à y\n",
    "\n",
    "En outre, les variables booléennes permettent les opérations booléennes telles que :\n",
    "\n",
    "*   and     \n",
    "*   or\n",
    "*   not\n"
   ]
  },
  {
   "cell_type": "code",
   "execution_count": null,
   "metadata": {
    "ExecuteTime": {
     "end_time": "2020-04-28T09:20:11.582664Z",
     "start_time": "2020-04-28T09:20:11.576856Z"
    }
   },
   "outputs": [],
   "source": [
    "bexp = 1 == 2 or (True)\n",
    "print(bexp)"
   ]
  },
  {
   "cell_type": "markdown",
   "metadata": {},
   "source": [
    "##  2. La bibliothèque Pandas\n",
    "\n",
    "L'intérêt de PYTHON provient de la combinaison d’un langage simple et d’une vaste collection de bibliothèques, notamment scientifiques. Ces bibliothèques complètent la base de jeux de commandes en ajoutant de nouveaux objets, adaptées au traitement d'informations plus complexes telles qu'un génome, une image, un son, etc. Ces bibliothèques changent constamment, mais certaines sont devenues des standards comme la bibliothèque numpy / scipy pour le calcul scientifique, matplotlib pour les représentations graphiques, biopython pour les traitements bioinformatiques et pandas pour l'analyse de données.\n",
    "\n",
    "L'appel aux fonctions et aux objets d'une bibliothèque se fait grâce à la commande **import** :\n",
    "\n",
    "Nous allons dans la suite nous intéresser à la bibliothèque Pandas\n",
    "\n",
    "La [bibliothèque pandas](https://pandas.pydata.org/docs/) facilite l'analyse de données massives, en combinant les fonctionalités des objets dictionnaires, arrays avec des fonctions reliées aux bases de données. Pandas offre deux structures de données:\n",
    "\n",
    "    Series\n",
    "    DataFrame\n",
    "\n",
    "Series permet l'analyse d'une série de données, qui sont indexées par une clef unidimensionnelle, comme par exemple le temps.\n",
    "DataFrame permet l'analyse de données organisées en tableaux, avec des indexes multiples. Un tableau excel à deux dimensions par exemple peut être lu directement dans cette structure en prenant les numéros des lignes et des colonnes comme index. "
   ]
  },
  {
   "cell_type": "code",
   "execution_count": null,
   "metadata": {
    "ExecuteTime": {
     "end_time": "2021-04-22T17:24:55.435166Z",
     "start_time": "2021-04-22T17:24:54.228334Z"
    }
   },
   "outputs": [],
   "source": [
    "# On importe la bibliothèque sous un alias pd\n",
    "import pandas as pd"
   ]
  },
  {
   "cell_type": "markdown",
   "metadata": {},
   "source": [
    "## 2.1 Analyse d'un petit jeu de données de cardiologie\n",
    "\n",
    "Le fichier heart.csv est fourni par le site Kaggle, un site qui fournit des jeux de données libres pour le développement des méthode d'apprentissage.\n",
    "\n",
    "- [kaggle](https://www.kaggle.com/datasets/johnsmith88/heart-disease-dataset)\n",
    "\n",
    "Les données fournies dans le fichier sont (chaque ligne est un patient):\n",
    "* age\n",
    "* sex\n",
    "* chest pain type (4 values)\n",
    "* resting blood pressure\n",
    "* serum cholestoral in mg/dl\n",
    "* fasting blood sugar > 120 mg/dl\n",
    "* resting electrocardiographic results (values 0,1,2)\n",
    "* maximum heart rate achieved\n",
    "* exercise induced angina\n",
    "* oldpeak = ST depression induced by exercise relative to rest\n",
    "* the slope of the peak exercise ST segment\n",
    "* number of major vessels (0-3) colored by flourosopy\n",
    "* thal: 0 = normal; 1 = fixed defect; 2 = reversable defect\n",
    "* target: refers to the presence of heart disease in the patient. It is integer valued 0 = no disease and 1 = disease.\n"
   ]
  },
  {
   "cell_type": "code",
   "execution_count": null,
   "metadata": {
    "ExecuteTime": {
     "end_time": "2021-04-22T17:24:58.470437Z",
     "start_time": "2021-04-22T17:24:58.446158Z"
    }
   },
   "outputs": [],
   "source": [
    "# Import du tableau dans un Dataframe Pandas\n",
    "\n",
    "hd = pd.read_csv(\"heart.csv\")\n"
   ]
  },
  {
   "cell_type": "markdown",
   "metadata": {},
   "source": [
    "L'objet hd est objet qui contient un tableau de données. \n",
    "\n",
    "Lorsque l'on travaille avec un objet Python, simple ou plus compliqué comme un tableau Pandas, on utilise des méthodes associées à cet objet. Une méthode est un programme qui est étroitement associé aux données. Ce concept de programmes associés aux données est à la base de ce que l'on appelle la programmation objet. C'est ce concept qui donne toute la puissance à l'analyse des données par un language tel que Python. Par exemple, si on travaille avec des séquences de gènes, on s'attend à pouvoir avoir immédiatement accès à un certain nombre de fonctions standards telles que la traduction de la séquence nucléotidique en séquences protéique, le découpage en codons, l'analyse des biais de compositions etc...\n",
    "\n",
    "La commande dir() permet de lister l'ensemble des méthodes associées à un objet\n"
   ]
  },
  {
   "cell_type": "code",
   "execution_count": null,
   "metadata": {
    "ExecuteTime": {
     "end_time": "2021-04-22T17:25:01.060102Z",
     "start_time": "2021-04-22T17:25:01.051895Z"
    }
   },
   "outputs": [],
   "source": [
    "# Exploration globale du tableau\n",
    "\n",
    "# Visualisation des premières lignes du tableau\n",
    "hd.head()"
   ]
  },
  {
   "cell_type": "markdown",
   "metadata": {},
   "source": [
    "### Analyse globale du tableau \n",
    "\n",
    "Pandas propose quelques fonctions permettant d'avoir une vue globale du tableau, nombre de lignes, colonnes, nomenclature des index etc... Ces contrôles sont indispensables pour vérifier la qualité des données.\n"
   ]
  },
  {
   "cell_type": "code",
   "execution_count": null,
   "metadata": {
    "ExecuteTime": {
     "end_time": "2021-04-22T17:25:03.890739Z",
     "start_time": "2021-04-22T17:25:03.812333Z"
    }
   },
   "outputs": [],
   "source": [
    "# Taille du tableau\n",
    "print (\" Le tableau contient \",hd.size,\" cellules\")\n",
    "\n",
    "# Nombres de lignes et de colonnes\n",
    "print (\" Nombre de lignes et colonnes :\",hd.shape)\n",
    "\n",
    "# Le nombre de lignes peut être obtenu avec la commande len :\n",
    "# Nombres de lignes et de colonnes\n",
    "print (\" Nombre de lignes :\",len(hd))\n",
    "\n",
    "# Statistiques sur le nombres d'éléments du tableau\n",
    "hd.describe()"
   ]
  },
  {
   "cell_type": "markdown",
   "metadata": {},
   "source": [
    "### Accès aux éléments individuels du tableau\n",
    "\n",
    "L'accès aux lignes et colonnes du tableau est réalisée grâce aux crochets [] ainsi qu'à la méthode loc[].\n",
    "Dans le tableau de données de pathologies cardiaques, les lignes sont identifiées par un numéro (de 0 à 302) et les colonnes par une chaîne de caractères (des caractères entre guillemets \"\" ou '').\n",
    "\n",
    "On peut récupérer une ligne ou une colonne entière dans un nouvel objet (qui aura alors une dimension (1,N)). Un objet Pandas à une dimension s'appelle une Série."
   ]
  },
  {
   "cell_type": "code",
   "execution_count": null,
   "metadata": {
    "ExecuteTime": {
     "end_time": "2021-04-22T17:25:10.412422Z",
     "start_time": "2021-04-22T17:25:10.404269Z"
    }
   },
   "outputs": [],
   "source": [
    "# On récupère une colonne du tableau dans un nouvel objet nommé ages\n",
    "ages = hd['age']\n",
    "ages.head() # Affiche les premiers éléments de la série"
   ]
  },
  {
   "cell_type": "code",
   "execution_count": null,
   "metadata": {
    "ExecuteTime": {
     "end_time": "2021-04-22T17:25:12.429711Z",
     "start_time": "2021-04-22T17:25:12.421951Z"
    }
   },
   "outputs": [],
   "source": [
    "# Accès à une ligne particulière\n",
    "hd.loc[4]"
   ]
  },
  {
   "cell_type": "code",
   "execution_count": null,
   "metadata": {
    "ExecuteTime": {
     "end_time": "2021-04-22T11:41:13.650565Z",
     "start_time": "2021-04-22T11:41:13.643183Z"
    }
   },
   "outputs": [],
   "source": [
    "# Accès à une cellule avec les coordonnées (ligne, colonne):\n",
    "print (hd.loc[10,'age'])"
   ]
  },
  {
   "cell_type": "markdown",
   "metadata": {},
   "source": [
    "### Accès à un ensemble de lignes \n",
    "\n",
    "Lorsque les lignes sont identifiées par un numéro, on peut utiliser l'écriture [N:M] pour sélectionner toutes les lignes entre l'indice M et N-1 inclus. Cette synthaxe est générale à l'ensemble des objets Python qui sont composés d'un ensemble ordonné d'élements. C'est le cas d'une chaîne de caractères."
   ]
  },
  {
   "cell_type": "code",
   "execution_count": null,
   "metadata": {
    "ExecuteTime": {
     "end_time": "2021-04-22T17:25:16.151497Z",
     "start_time": "2021-04-22T17:25:16.139897Z"
    }
   },
   "outputs": [],
   "source": [
    "# Sélectionne les caractères 8 à 11 inclus\n",
    "a = \"il fait beau\"\n",
    "print (a[8:12])\n",
    "\n",
    "# Dans un tableau Pandas\n",
    "print (hd[6:11])\n"
   ]
  },
  {
   "cell_type": "markdown",
   "metadata": {},
   "source": [
    "### Ajout d'une colonne\n",
    "\n",
    "Tout comme dans un tableur classique, on peut avoir besoin d'ajouter une colonne dont la valeur va être le résultat d'un calcul à partir des cellules existantes. Dans l'exemple ci-dessous, on veut ajouter une colonne NumSS qui calculera un numéro unique basé sur l'année de naissance et le sexe du patient, à l'instar du numéro de sécurité social. \n",
    "La date de publication des données est 2017, l'année de naissance est donc: 2017-age.\n"
   ]
  },
  {
   "cell_type": "code",
   "execution_count": null,
   "metadata": {
    "ExecuteTime": {
     "end_time": "2021-04-22T17:25:20.069249Z",
     "start_time": "2021-04-22T17:25:20.044052Z"
    }
   },
   "outputs": [],
   "source": [
    "hd['NumSS'] = 10*(2017-hd['age'])+hd['sex']\n",
    "hd.head()"
   ]
  },
  {
   "cell_type": "markdown",
   "metadata": {
    "ExecuteTime": {
     "end_time": "2021-04-22T16:11:52.092732Z",
     "start_time": "2021-04-22T16:11:52.049726Z"
    }
   },
   "source": [
    "### Exercice 1 :\n",
    "\n",
    "- Montrez que le numéro donné par la méthode ci-dessus n'est pas unique"
   ]
  },
  {
   "cell_type": "code",
   "execution_count": null,
   "metadata": {
    "ExecuteTime": {
     "end_time": "2021-04-22T17:25:42.619691Z",
     "start_time": "2021-04-22T17:25:42.606795Z"
    }
   },
   "outputs": [],
   "source": [
    "# Corrigé\n"
   ]
  },
  {
   "cell_type": "markdown",
   "metadata": {},
   "source": [
    "### Notion d'index\n",
    "\n",
    "Les index des lignes ne sont pas nécessairement des nombres entiers qui se suivent. Cela peut être n'importe quel object à partir du moment où la valeur de l'objet est unique. On peut par exemple substituer l'index donné par défaut (numéros de 0 à 302) par le numéro que nous avons composé à partir du sexe et de l'année de naissance.\n"
   ]
  },
  {
   "cell_type": "code",
   "execution_count": null,
   "metadata": {
    "ExecuteTime": {
     "end_time": "2021-04-22T17:25:48.226806Z",
     "start_time": "2021-04-22T17:25:48.208001Z"
    }
   },
   "outputs": [],
   "source": [
    "# Définition d'un index de ligne à partir du numéro de SS\n",
    "hd.set_index(hd['NumSS'],inplace = True)\n",
    "hd.head(4)"
   ]
  },
  {
   "cell_type": "markdown",
   "metadata": {
    "ExecuteTime": {
     "end_time": "2021-04-22T16:36:28.037806Z",
     "start_time": "2021-04-22T16:36:28.026835Z"
    }
   },
   "source": [
    "### Selections de lignes selon des critères spécifiques\n",
    "\n",
    "On souhaite sélectionner les lignes du tableau selon une ou l'autre valeurs des colonnes. La synthaxe est :\n",
    "\n",
    "tableau[ Expression Booleenne (le résultat est True ou False)]\n",
    "\n",
    "Exemple: On veut extraire les données pour les hommes uniquement:\n",
    "\n",
    "Questions: Quelle est la proportion d'hommes et de femmes dans le tableau ?"
   ]
  },
  {
   "cell_type": "code",
   "execution_count": null,
   "metadata": {
    "ExecuteTime": {
     "end_time": "2021-04-22T17:04:32.131227Z",
     "start_time": "2021-04-22T17:04:32.123419Z"
    }
   },
   "outputs": [],
   "source": [
    "hdmen = hd[hd['sex']==0]"
   ]
  },
  {
   "cell_type": "markdown",
   "metadata": {},
   "source": [
    "### Exercice 2\n",
    "\n",
    "- Combien de patients on un tau de cholesterol supérieur à 250 mg/dL ?\n",
    "- Parmi ces patients, quelle est la proportion d'hommes et de femme ?"
   ]
  },
  {
   "cell_type": "code",
   "execution_count": 24,
   "metadata": {
    "ExecuteTime": {
     "end_time": "2021-04-22T19:02:44.379251Z",
     "start_time": "2021-04-22T19:02:44.373290Z"
    }
   },
   "outputs": [],
   "source": [
    "# Réponses\n"
   ]
  },
  {
   "cell_type": "code",
   "execution_count": null,
   "metadata": {
    "ExecuteTime": {
     "end_time": "2021-04-22T17:27:17.692188Z",
     "start_time": "2021-04-22T17:27:17.664090Z"
    }
   },
   "outputs": [],
   "source": [
    "# Suppression d'une colonne:\n",
    "hd.drop(columns = ['NumSS'],inplace = True)\n",
    "\n",
    "# Suppression d'une ligne\n",
    "hd.drop([19401000],inplace = True)"
   ]
  },
  {
   "cell_type": "markdown",
   "metadata": {
    "ExecuteTime": {
     "end_time": "2021-04-22T17:20:21.942948Z",
     "start_time": "2021-04-22T17:20:21.901461Z"
    }
   },
   "source": [
    "### Regroupement de cellules \n",
    "\n",
    "On souhaite analyser les différentes valeurs du tableau (cholesterol, fréquence cardiaque) en fonction du sexe des patients. Il existe une méthode (groupby) permettant d'aggréger des lignes du tableau selon les valeurs d'une colonne (par exemple le sexe). La façon dont les valeurs sont aggrégées est spécifiée par une fonction, qui va calculer une valeur unique à partir d'un ensemble de valeurs (par exemple le calcul d'une moyenne).\n",
    "\n",
    "Exemple:"
   ]
  },
  {
   "cell_type": "code",
   "execution_count": null,
   "metadata": {
    "ExecuteTime": {
     "end_time": "2021-04-22T17:48:57.470786Z",
     "start_time": "2021-04-22T17:48:57.458074Z"
    }
   },
   "outputs": [],
   "source": [
    "hd.groupby('sex').chol.mean()"
   ]
  },
  {
   "cell_type": "markdown",
   "metadata": {},
   "source": [
    "### Exercice 3\n",
    "\n",
    "Essayez de regrouper les lignes du tableau en fonction de l'age des patients. Est-ce qu'on peut faire apparaître des tendences sur les indicateurs cardiaques ?\n"
   ]
  },
  {
   "cell_type": "code",
   "execution_count": null,
   "metadata": {
    "ExecuteTime": {
     "end_time": "2021-04-22T17:56:09.017570Z",
     "start_time": "2021-04-22T17:56:08.972292Z"
    }
   },
   "outputs": [],
   "source": []
  },
  {
   "cell_type": "code",
   "execution_count": null,
   "metadata": {},
   "outputs": [],
   "source": []
  }
 ],
 "metadata": {
  "kernelspec": {
   "display_name": "Python 3",
   "language": "python",
   "name": "python3"
  },
  "language_info": {
   "codemirror_mode": {
    "name": "ipython",
    "version": 3
   },
   "file_extension": ".py",
   "mimetype": "text/x-python",
   "name": "python",
   "nbconvert_exporter": "python",
   "pygments_lexer": "ipython3",
   "version": "3.7.3"
  },
  "nbTranslate": {
   "displayLangs": [
    "*"
   ],
   "hotkey": "alt-t",
   "langInMainMenu": true,
   "sourceLang": "en",
   "targetLang": "fr",
   "useGoogleTranslate": true
  },
  "toc": {
   "base_numbering": 1,
   "nav_menu": {},
   "number_sections": false,
   "sideBar": true,
   "skip_h1_title": false,
   "title_cell": "Table of Contents",
   "title_sidebar": "Contents",
   "toc_cell": false,
   "toc_position": {},
   "toc_section_display": true,
   "toc_window_display": false
  }
 },
 "nbformat": 4,
 "nbformat_minor": 2
}
